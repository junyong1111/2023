{
  "cells": [
    {
      "cell_type": "markdown",
      "metadata": {
        "id": "9YIIYrx9JFRp"
      },
      "source": [
        "### sympy 명령어\n",
        "https://www.theissaclee.com/ko/post/sympy_tutorial/"
      ]
    },
    {
      "cell_type": "code",
      "execution_count": null,
      "metadata": {
        "colab": {
          "base_uri": "https://localhost:8080/"
        },
        "id": "izkGUZpuH2SI",
        "outputId": "39fec42c-181c-4d40-efc0-4f0fe417d58f"
      },
      "outputs": [
        {
          "name": "stdout",
          "output_type": "stream",
          "text": [
            "F(x)= x**3\n"
          ]
        }
      ],
      "source": [
        "import sympy as sp\n",
        "x=sp.Symbol('x')\n",
        "fx=3*x**2\n",
        "print(\"F(x)=\", sp.integrate(fx, x))"
      ]
    }
  ],
  "metadata": {
    "accelerator": "GPU",
    "colab": {
      "provenance": []
    },
    "gpuClass": "standard",
    "kernelspec": {
      "display_name": "Python 3",
      "name": "python3"
    },
    "language_info": {
      "name": "python"
    }
  },
  "nbformat": 4,
  "nbformat_minor": 0
}
