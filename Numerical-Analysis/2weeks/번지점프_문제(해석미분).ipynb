{
  "cells": [
    {
      "cell_type": "markdown",
      "metadata": {
        "id": "nqm7IY2WK42q"
      },
      "source": [
        "### **문제** \n",
        "\n",
        "- 번지 점프 회사에서 문제가 발생했다.\n",
        "    - 번지 점프를 하는 사람들 중에 심각한 척추 부상을 당하는 경우가 다수 발생\n",
        "    - 번지 점프 회사는 개발자를 회사의 신입사원으로 입사시켜 이러한 문제를 해결하도록 업무를 지시\n",
        "    \n",
        "    —# 첫 번째 확인된 사항은 번지점프 후 4초 대 36m/s의 속도를 가지는 사람들이 척추부상을 당하는 것으로 확인 되었다.\n",
        "    \n",
        "    기존에는 몸무게가 고정되어 있던 사람의 t = x일 때 속도를 구하는 문제\n",
        "    \n",
        "    현재 문제는 t = 4로 고정되어 있을 때 속도가 36m/s인 사람의 몸무게(x)를 구하는 문제"
      ]
    },
    {
      "cell_type": "code",
      "execution_count": 3,
      "metadata": {
        "colab": {
          "base_uri": "https://localhost:8080/"
        },
        "id": "1rUSQg8kRxr9",
        "outputId": "969c22a9-e655-4982-d996-c0323a1e2e53"
      },
      "outputs": [
        {
          "name": "stdout",
          "output_type": "stream",
          "text": [
            "Reading package lists... Done\n",
            "Building dependency tree       \n",
            "Reading state information... Done\n",
            "fonts-nanum is already the newest version (20180306-3).\n",
            "0 upgraded, 0 newly installed, 0 to remove and 22 not upgraded.\n",
            "/usr/share/fonts: caching, new cache contents: 0 fonts, 1 dirs\n",
            "/usr/share/fonts/truetype: caching, new cache contents: 0 fonts, 3 dirs\n",
            "/usr/share/fonts/truetype/humor-sans: caching, new cache contents: 1 fonts, 0 dirs\n",
            "/usr/share/fonts/truetype/liberation: caching, new cache contents: 16 fonts, 0 dirs\n",
            "/usr/share/fonts/truetype/nanum: caching, new cache contents: 10 fonts, 0 dirs\n",
            "/usr/local/share/fonts: caching, new cache contents: 0 fonts, 0 dirs\n",
            "/root/.local/share/fonts: skipping, no such directory\n",
            "/root/.fonts: skipping, no such directory\n",
            "/usr/share/fonts/truetype: skipping, looped directory detected\n",
            "/usr/share/fonts/truetype/humor-sans: skipping, looped directory detected\n",
            "/usr/share/fonts/truetype/liberation: skipping, looped directory detected\n",
            "/usr/share/fonts/truetype/nanum: skipping, looped directory detected\n",
            "/var/cache/fontconfig: cleaning cache directory\n",
            "/root/.cache/fontconfig: not cleaning non-existent cache directory\n",
            "/root/.fontconfig: not cleaning non-existent cache directory\n",
            "fc-cache: succeeded\n"
          ]
        }
      ],
      "source": [
        "!sudo apt-get install -y fonts-nanum\n",
        "!sudo fc-cache -fv\n",
        "!rm ~/.cache/matplotlib -rf\n",
        "#-- 런타임 다시 시작"
      ]
    },
    {
      "cell_type": "code",
      "execution_count": 23,
      "metadata": {
        "colab": {
          "base_uri": "https://localhost:8080/",
          "height": 606
        },
        "id": "84qa29lBJ6OI",
        "outputId": "f3a816ba-87bc-4411-eedd-54d7674f8294"
      },
      "outputs": [
        {
          "data": {
            "image/png": "[encoded data removed]",
            "text/plain": [
              "<Figure size 432x288 with 1 Axes>"
            ]
          },
          "metadata": {
            "needs_background": "light"
          },
          "output_type": "display_data"
        },
        {
          "name": "stderr",
          "output_type": "stream",
          "text": [
            "/usr/local/lib/python3.9/dist-packages/IPython/core/pylabtools.py:128: UserWarning: Glyph 8722 (\\N{MINUS SIGN}) missing from current font.\n",
            "  fig.canvas.print_figure(bytes_io, **kw)\n"
          ]
        },
        {
          "data": {
            "image/png": "[encoded data removed]",
            "text/plain": [
              "<Figure size 432x288 with 1 Axes>"
            ]
          },
          "metadata": {
            "needs_background": "light"
          },
          "output_type": "display_data"
        }
      ],
      "source": [
        "import numpy as np\n",
        "import matplotlib.pyplot as plt\n",
        "\n",
        "plt.rc('font', family='NanumBarunGothic') \n",
        "g=9.8; cd=0.25; t=4\n",
        "\n",
        "m=np.linspace(40, 200, 100)\n",
        "#-- linear space \n",
        "#-- 40 ~ 200까지는 모두 동일한 간격으로 100개를 만들겠다는 의미이며 현재 코드에서는 몸무게를 의미\n",
        "\n",
        "#--해석미분에서 사용한 속도를 이용\n",
        "v=np.sqrt(g*m/cd)*np.tanh(np.sqrt(g*cd/m)*t)\n",
        "v1=np.sqrt(g*m/cd)*np.tanh(np.sqrt(g*cd/m)*t)-36\n",
        "\n",
        "answer_v = np.where(v>36)\n",
        "answer = m[answer_v[0][0]]\n",
        "\n",
        "k=np.linspace(0, 0, 100)\n",
        "\n",
        "plt.figure(1)\n",
        "plt.plot(m, v, 'r.')\n",
        "plt.grid()\n",
        "plt.title('t = 4일때 몸무게별 속도')\n",
        "plt.xlabel('몸무게')\n",
        "plt.ylabel('속도')\n",
        "plt.show()\n",
        "\n",
        "plt.figure(2)\n",
        "plt.title('t = 4일때 몸무게별 속도')\n",
        "plt.xlabel('몸무게')\n",
        "#plt.plot(m, v1, 'b.')\n",
        "plt.plot(m, v1, m, k)\n",
        "plt.grid()\n",
        "plt.show()"
      ]
    }
  ],
  "metadata": {
    "accelerator": "GPU",
    "colab": {
      "provenance": []
    },
    "gpuClass": "standard",
    "kernelspec": {
      "display_name": "Python 3",
      "name": "python3"
    },
    "language_info": {
      "name": "python"
    }
  },
  "nbformat": 4,
  "nbformat_minor": 0
}
