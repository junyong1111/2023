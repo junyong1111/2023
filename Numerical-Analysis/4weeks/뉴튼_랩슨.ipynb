{
  "nbformat": 4,
  "nbformat_minor": 0,
  "metadata": {
    "colab": {
      "provenance": []
    },
    "kernelspec": {
      "name": "python3",
      "display_name": "Python 3"
    },
    "language_info": {
      "name": "python"
    }
  },
  "cells": [
    {
      "cell_type": "code",
      "source": [
        "import numpy as np\n",
        "from scipy.optimize import fsolve\n",
        "\n",
        "def sech(x):\n",
        "    return np.cosh(x) ** (-1)\n",
        "\n",
        "\n",
        "def newton_raphson(func, dfunc, xr, xt):\n",
        "    maxit = 50\n",
        "    es = 1.0e-5\n",
        "    iter = 0\n",
        "\n",
        "    while (1):\n",
        "        xrold = xr\n",
        "        xr = (xr - func(xr) / dfunc(xr))\n",
        "\n",
        "        iter = iter + 1\n",
        "\n",
        "        if xr != 0:\n",
        "            ea = (np.abs(((xr) - (xrold)) / (xr)) * 100)\n",
        "            et= (np.abs(((xt) - (xr)) / (xt)) * 100)\n",
        "\n",
        "        if (ea <= es) | (iter >= maxit):\n",
        "            break\n",
        "\n",
        "        root = xr\n",
        "        fx = func(xr)\n",
        "    return root, fx, ea, iter\n",
        "\n",
        "if __name__ == '__main__':\n",
        "    g = 9.81; cd = 0.25; v = 36; t = 4\n",
        "    fm = lambda m: np.sqrt(9.81 * m / 0.25) * np.tanh(np.sqrt(9.81 * 0.25 / m) * 4) - 36\n",
        "    xt = fsolve(fm, 1)\n",
        "    print(\"Real Root= \", xt)\n",
        "\n",
        "    fp = lambda m: np.sqrt(g * m / cd) * np.tanh(np.sqrt(g * cd / m) * t) - v\n",
        "    dfp = lambda m: (1 / 2) * np.sqrt(g / (m * cd)) * np.tanh(np.sqrt(g * cd / m) * t) - g * t / (2 * m) * (\n",
        "    sech(np.sqrt(g * cd / m) * t)) ** 2\n",
        "\n",
        "    root, fx, ea, iter = newton_raphson(fp, dfp, 140, xt)\n",
        "    print('root weight= ', root)\n",
        "    print('f(root weight, should be zero) =', fx)\n",
        "    print('ea = should be less than 1.0e-4', ea)\n",
        "    print('iter =', iter)"
      ],
      "metadata": {
        "colab": {
          "base_uri": "https://localhost:8080/"
        },
        "id": "6pLlqdXnaJ84",
        "outputId": "90a5d5fb-6e39-4d13-a70c-cc917444bd5f"
      },
      "execution_count": 15,
      "outputs": [
        {
          "output_type": "stream",
          "name": "stdout",
          "text": [
            "Real Root=  [142.73763311]\n",
            "root weight=  142.7376189663234\n",
            "f(root weight, should be zero) = -2.8928707251907326e-07\n",
            "ea = should be less than 1.0e-4 9.907775669827273e-06\n",
            "iter = 3\n"
          ]
        }
      ]
    }
  ]
}