{
  "nbformat": 4,
  "nbformat_minor": 0,
  "metadata": {
    "colab": {
      "provenance": []
    },
    "kernelspec": {
      "name": "python3",
      "display_name": "Python 3"
    },
    "language_info": {
      "name": "python"
    },
    "gpuClass": "standard"
  },
  "cells": [
    {
      "cell_type": "code",
      "execution_count": 33,
      "metadata": {
        "id": "aNW04rFPqeBm",
        "colab": {
          "base_uri": "https://localhost:8080/"
        },
        "outputId": "895eb297-d356-4775-c508-4cc6264483a4"
      },
      "outputs": [
        {
          "output_type": "stream",
          "name": "stdout",
          "text": [
            "=====================X Data ===================\n",
            "Number of X data is : 16\n",
            "X data is : [15.42555012 23.00811234  5.00285937 12.55831432  8.66889727  7.30846487\n",
            "  9.65650528 13.63901818 14.91918686 18.47041835 15.47986286 22.13048751\n",
            " 10.11130624 26.95293591  5.68468983 21.76168775]\n",
            "=====================Y Data ===================\n",
            "Number of Y data is : 16\n",
            "Y data is : [170.91013145 160.67559882 129.00206616 159.70139552 155.46058905\n",
            " 140.56134369 153.65466385 159.42939554 164.70423898 169.64527574\n",
            " 160.71257522 173.28709855 159.31193249 171.51757345 138.9570433\n",
            " 165.8744074 ]\n"
          ]
        }
      ],
      "source": [
        "import matplotlib.pyplot as plt\n",
        "import numpy as np\n",
        "\n",
        "#-- X data 생성(나이)\n",
        "np.random.seed(seed=1) # 난수를 고정\n",
        "number_of_data = 16\n",
        "X = 5 + 25 * np.random.rand(number_of_data)\n",
        "#-- randomr.rand함수는 [0,1]사이의 데이터만 나옴 여기에 25를 곱하면 -> [0,25] -> [5, 30]\n",
        "#-- X는 5에서 30세에 100% 가 나타나는 균등 분포\n",
        "print(\"=====================X Data ===================\")\n",
        "print(\"Number of X data is :\", len(X))\n",
        "print(\"X data is :\", X)\n",
        "\n",
        "print(\"=====================Y Data ===================\")\n",
        "#-- Y(T) data 생성(키)\n",
        "Prm_c = [170, 108, 0.2, 4] # 생성 매개 변수\n",
        "T = Prm_c[0] - Prm_c[1] * np.exp(-Prm_c[2] * X) + Prm_c[3] * np.random.randn(number_of_data) # (A)\n",
        "#-- [126.269, 173.73]@ 68% 정규분포\n",
        "print(\"Number of Y data is :\", len(T))\n",
        "print(\"Y data is :\", T)"
      ]
    }
  ]
}