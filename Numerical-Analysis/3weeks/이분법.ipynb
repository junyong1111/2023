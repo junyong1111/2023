{
  "cells": [
    {
      "cell_type": "code",
      "execution_count": 9,
      "metadata": {
        "colab": {
          "base_uri": "https://localhost:8080/"
        },
        "id": "luHhRPdpHF05",
        "outputId": "1412de33-60ce-46ce-d662-a743b3304d9a"
      },
      "outputs": [
        {
          "name": "stdout",
          "output_type": "stream",
          "text": [
            "root =  142.73765563964844 (Bisection)\n",
            "f(root) =  4.6089132155202606e-07 (must be zero, Bisection)\n",
            "estimated error=  5.3450468252827136e-05 (must be zero error, Bisection)\n",
            "iterated number to find root = 21 (Bisection)\n"
          ]
        }
      ],
      "source": [
        "import numpy as np\n",
        "\n",
        "def bisect(func, xl, xu):\n",
        "    maxit=100\n",
        "    es=1.0e-4 #-- 절대 오치\n",
        "    test=func(xl)*func(xu)\n",
        "    #-- 두 구간의 함수값을 곱했을 때 양수면 구간이 존재 하지 않음\n",
        "\n",
        "    if test > 0:\n",
        "        print('No sign change')\n",
        "        return [], [], [], []\n",
        "\n",
        "    iter=0; xr=xl; ea=100\n",
        "\n",
        "    #-- 1단계 : 하한 경계(xl)과 상한 경계(xu)값을 임의로 정한다.\n",
        "    #-- 2단게 : 하한 경계 함수값 f(xl)과 상한 경계 함수값 f(xu)의 부호가 변하면 구간으로 확정한다.\n",
        "\n",
        "    while (1):\n",
        "        xrold=xr\n",
        "        xr=np.float64((xl+xu)/2)\n",
        "        #-- 3단계 : 구간이 확정되면, 이분법에 의한 값, xr = (xl +xu) /2을 계산해서 근이라고 정한다.\n",
        "        iter=iter+1\n",
        "\n",
        "        if xr != 0:  # 나누기에서 분모가 0이면 안 되죠. 0으로 나누는 것은 ZeroDivisionError: division by zero 가 발생하죠 \n",
        "            ea=np.float64(np.abs(np.float64(xr)-np.float64(xrold))/np.float64(xr))*100\n",
        "            #-- 상대 오차 계산\n",
        "\n",
        "        test=func(xl)*func(xr)\n",
        "        #-- 4단계 : 하한 경계 함수값 f(x1)과 이분 경계 함수값 f(xr)의 부호 변화를 체크한다.\n",
        "        \n",
        "        #-- 두 개의 구간을 곱해도 부호가 변하지 않으면 하한값을 조정 x1 = xr로 대체\n",
        "        if test > 0:\n",
        "            xl=xr\n",
        "        #-- 두 개의 구간을 곱해서 부호가 변하면 상한값을 조정 xu = xr로 대체함\n",
        "        elif test < 0:\n",
        "            xu=xr\n",
        "        else:\n",
        "            ea=0\n",
        "\n",
        "        if np.int64(ea<es) | np.int64(iter >= maxit):\n",
        "            break\n",
        "\n",
        "    root=xr\n",
        "    fx=func(xr)\n",
        "\n",
        "    return root, fx, ea, iter\n",
        "\n",
        "if __name__ == '__main__':\n",
        "    \n",
        "    fm=lambda m: np.sqrt(9.81*m/0.25)*np.tanh(np.sqrt(9.81*0.25/m)*4)-36\n",
        "    root, fx, ea, iter=bisect(fm, 40, 200)\n",
        "    print('root = ', root, '(Bisection)')\n",
        "    print('f(root) = ', fx, '(must be zero, Bisection)')\n",
        "    print('estimated error= ', ea, '(must be zero error, Bisection)')\n",
        "    print('iterated number to find root =', iter, '(Bisection)')"
      ]
    }
  ],
  "metadata": {
    "accelerator": "GPU",
    "colab": {
      "provenance": []
    },
    "gpuClass": "standard",
    "kernelspec": {
      "display_name": "Python 3",
      "name": "python3"
    },
    "language_info": {
      "name": "python"
    }
  },
  "nbformat": 4,
  "nbformat_minor": 0
}
