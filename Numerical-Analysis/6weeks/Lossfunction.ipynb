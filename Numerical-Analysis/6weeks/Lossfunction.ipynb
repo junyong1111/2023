{
  "nbformat": 4,
  "nbformat_minor": 0,
  "metadata": {
    "colab": {
      "provenance": []
    },
    "kernelspec": {
      "name": "python3",
      "display_name": "Python 3"
    },
    "language_info": {
      "name": "python"
    },
    "accelerator": "GPU",
    "gpuClass": "standard"
  },
  "cells": [
    {
      "cell_type": "code",
      "source": [
        "#-- 필요 라이브러리 import\n",
        "\n",
        "import numpy as np\n",
        "import matplotlib.pyplot as plt\n",
        "#import tensorflow as tf\n",
        "import tensorflow.compat.v1 as tf\n",
        "tf.disable_v2_behavior()\n",
        "# print(tf.__version__)"
      ],
      "metadata": {
        "id": "c97RU7Mbnk4y"
      },
      "execution_count": 2,
      "outputs": []
    },
    {
      "cell_type": "code",
      "source": [
        "#-- x = [1, 2, 3] \n",
        "#-- y = [1, 2, 3]\n",
        "X = np.array([1., 2., 3.])\n",
        "Y = np.array([1., 2., 3.])\n",
        "m = len(X)"
      ],
      "metadata": {
        "id": "T9xsi0OAnoqn"
      },
      "execution_count": 3,
      "outputs": []
    },
    {
      "cell_type": "code",
      "source": [
        "#-- 가중치 설정\n",
        "W = tf.placeholder(tf.float32)\n",
        "#-- 가설 직선\n",
        "hypothesis = W*X\n",
        "#-- 손실함수로 MSE 사용\n",
        "cost = tf.reduce_sum(tf.pow(hypothesis-Y, 2)) / m"
      ],
      "metadata": {
        "id": "T38SRMMonzgi"
      },
      "execution_count": 6,
      "outputs": []
    },
    {
      "cell_type": "code",
      "source": [
        "init = tf.initialize_all_variables()\n",
        "sess = tf.Session()\n",
        "sess.run(init)\n",
        "#-- 그래프 생성"
      ],
      "metadata": {
        "id": "0GBN8IwMoGBc"
      },
      "execution_count": 19,
      "outputs": []
    },
    {
      "cell_type": "code",
      "source": [
        "#-- 학습\n",
        "# 그래프로 표시하기 위해 데이터를 누적할 리스트\n",
        "W_val, cost_val = [], []\n",
        "\n",
        "# 0.1 단위로 증가할 수 없어서 -30부터 시작. 그래프에는 -3에서 5까지 표시됨.\n",
        "for i in range(-30, 50):\n",
        "    xPos = i*0.1                                    # x 좌표. -3에서 5까지 0.1씩 증가\n",
        "    yPos = sess.run(cost, feed_dict={W: xPos})      # x 좌표에 따른 y 값\n",
        "\n",
        "    print('x pos is : {:3.1f}, y pos is {:3.1f}'.format(xPos, yPos))\n",
        "\n",
        "    # 그래프에 표시할 데이터 누적. 단순히 리스트에 갯수를 늘려나감\n",
        "    W_val.append(xPos)\n",
        "    cost_val.append(yPos)\n",
        "\n",
        "sess.close()\n",
        "\n",
        "#np.where(np.round(cost_val, 2) == 0.0)\n",
        "#W_val[40]"
      ],
      "metadata": {
        "colab": {
          "base_uri": "https://localhost:8080/"
        },
        "id": "K8c-mm5NoXaS",
        "outputId": "e3c11d28-b8f6-48d6-cf3b-0ce2f2ff70ad"
      },
      "execution_count": 20,
      "outputs": [
        {
          "output_type": "stream",
          "name": "stdout",
          "text": [
            "x pos is : -3.0, y pos is 74.7\n",
            "x pos is : -2.9, y pos is 71.0\n",
            "x pos is : -2.8, y pos is 67.4\n",
            "x pos is : -2.7, y pos is 63.9\n",
            "x pos is : -2.6, y pos is 60.5\n",
            "x pos is : -2.5, y pos is 57.2\n",
            "x pos is : -2.4, y pos is 53.9\n",
            "x pos is : -2.3, y pos is 50.8\n",
            "x pos is : -2.2, y pos is 47.8\n",
            "x pos is : -2.1, y pos is 44.8\n",
            "x pos is : -2.0, y pos is 42.0\n",
            "x pos is : -1.9, y pos is 39.2\n",
            "x pos is : -1.8, y pos is 36.6\n",
            "x pos is : -1.7, y pos is 34.0\n",
            "x pos is : -1.6, y pos is 31.5\n",
            "x pos is : -1.5, y pos is 29.2\n",
            "x pos is : -1.4, y pos is 26.9\n",
            "x pos is : -1.3, y pos is 24.7\n",
            "x pos is : -1.2, y pos is 22.6\n",
            "x pos is : -1.1, y pos is 20.6\n",
            "x pos is : -1.0, y pos is 18.7\n",
            "x pos is : -0.9, y pos is 16.8\n",
            "x pos is : -0.8, y pos is 15.1\n",
            "x pos is : -0.7, y pos is 13.5\n",
            "x pos is : -0.6, y pos is 11.9\n",
            "x pos is : -0.5, y pos is 10.5\n",
            "x pos is : -0.4, y pos is 9.1\n",
            "x pos is : -0.3, y pos is 7.9\n",
            "x pos is : -0.2, y pos is 6.7\n",
            "x pos is : -0.1, y pos is 5.6\n",
            "x pos is : 0.0, y pos is 4.7\n",
            "x pos is : 0.1, y pos is 3.8\n",
            "x pos is : 0.2, y pos is 3.0\n",
            "x pos is : 0.3, y pos is 2.3\n",
            "x pos is : 0.4, y pos is 1.7\n",
            "x pos is : 0.5, y pos is 1.2\n",
            "x pos is : 0.6, y pos is 0.7\n",
            "x pos is : 0.7, y pos is 0.4\n",
            "x pos is : 0.8, y pos is 0.2\n",
            "x pos is : 0.9, y pos is 0.0\n",
            "x pos is : 1.0, y pos is 0.0\n",
            "x pos is : 1.1, y pos is 0.0\n",
            "x pos is : 1.2, y pos is 0.2\n",
            "x pos is : 1.3, y pos is 0.4\n",
            "x pos is : 1.4, y pos is 0.7\n",
            "x pos is : 1.5, y pos is 1.2\n",
            "x pos is : 1.6, y pos is 1.7\n",
            "x pos is : 1.7, y pos is 2.3\n",
            "x pos is : 1.8, y pos is 3.0\n",
            "x pos is : 1.9, y pos is 3.8\n",
            "x pos is : 2.0, y pos is 4.7\n",
            "x pos is : 2.1, y pos is 5.6\n",
            "x pos is : 2.2, y pos is 6.7\n",
            "x pos is : 2.3, y pos is 7.9\n",
            "x pos is : 2.4, y pos is 9.1\n",
            "x pos is : 2.5, y pos is 10.5\n",
            "x pos is : 2.6, y pos is 11.9\n",
            "x pos is : 2.7, y pos is 13.5\n",
            "x pos is : 2.8, y pos is 15.1\n",
            "x pos is : 2.9, y pos is 16.8\n",
            "x pos is : 3.0, y pos is 18.7\n",
            "x pos is : 3.1, y pos is 20.6\n",
            "x pos is : 3.2, y pos is 22.6\n",
            "x pos is : 3.3, y pos is 24.7\n",
            "x pos is : 3.4, y pos is 26.9\n",
            "x pos is : 3.5, y pos is 29.2\n",
            "x pos is : 3.6, y pos is 31.5\n",
            "x pos is : 3.7, y pos is 34.0\n",
            "x pos is : 3.8, y pos is 36.6\n",
            "x pos is : 3.9, y pos is 39.2\n",
            "x pos is : 4.0, y pos is 42.0\n",
            "x pos is : 4.1, y pos is 44.8\n",
            "x pos is : 4.2, y pos is 47.8\n",
            "x pos is : 4.3, y pos is 50.8\n",
            "x pos is : 4.4, y pos is 53.9\n",
            "x pos is : 4.5, y pos is 57.2\n",
            "x pos is : 4.6, y pos is 60.5\n",
            "x pos is : 4.7, y pos is 63.9\n",
            "x pos is : 4.8, y pos is 67.4\n",
            "x pos is : 4.9, y pos is 71.0\n"
          ]
        }
      ]
    },
    {
      "cell_type": "code",
      "execution_count": 21,
      "metadata": {
        "colab": {
          "base_uri": "https://localhost:8080/",
          "height": 449
        },
        "id": "zZDoimHHhhMx",
        "outputId": "fa5eaf0d-87e7-49f1-eba6-c05e9821ec91"
      },
      "outputs": [
        {
          "output_type": "display_data",
          "data": {
            "text/plain": [
              "<Figure size 640x480 with 1 Axes>"
            ],
            "image/png": "[encoded data removed]"
          },
          "metadata": {}
        }
      ],
      "source": [
        "#-- 손실함수 그래프 시각화\n",
        "plt.plot(W_val, cost_val)\n",
        "plt.xlabel('W')\n",
        "plt.ylabel('cost')\n",
        "plt.grid()\n",
        "plt.show()"
      ]
    }
  ]
}